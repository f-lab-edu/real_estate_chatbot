{
 "cells": [
  {
   "cell_type": "code",
   "execution_count": 13,
   "id": "8a54ca97-007d-4bbf-a509-01164e4e386f",
   "metadata": {},
   "outputs": [
    {
     "data": {
      "text/plain": [
       "'/workspace/real_estate_chatbot/sLLM'"
      ]
     },
     "execution_count": 13,
     "metadata": {},
     "output_type": "execute_result"
    }
   ],
   "source": [
    "pwd"
   ]
  },
  {
   "cell_type": "code",
   "execution_count": 18,
   "id": "b0230a6e-73e5-4b75-abca-af539fd42cb8",
   "metadata": {},
   "outputs": [
    {
     "name": "stdout",
     "output_type": "stream",
     "text": [
      "sLLM.ipynb  \u001b[0m\u001b[01;34msLLM_test\u001b[0m/\n"
     ]
    }
   ],
   "source": [
    "ls"
   ]
  },
  {
   "cell_type": "code",
   "execution_count": 6,
   "id": "891f9899-8c95-4668-b99f-cb55a98dc639",
   "metadata": {},
   "outputs": [
    {
     "name": "stdout",
     "output_type": "stream",
     "text": [
      "make: *** No rule to make target 'cuda11x_nomatmul'.  Stop.\n"
     ]
    }
   ],
   "source": [
    "!CUDA_VERSION=111 make cuda11x_nomatmul"
   ]
  },
  {
   "cell_type": "code",
   "execution_count": 4,
   "id": "f40715b9-6139-4c30-86e9-a3ea3398267e",
   "metadata": {},
   "outputs": [
    {
     "data": {
      "text/plain": [
       "True"
      ]
     },
     "execution_count": 4,
     "metadata": {},
     "output_type": "execute_result"
    }
   ],
   "source": [
    "torch.cuda.is_available()"
   ]
  },
  {
   "cell_type": "code",
   "execution_count": 14,
   "id": "743e31b2-6921-4d2f-bbc2-0e895763a23b",
   "metadata": {},
   "outputs": [
    {
     "name": "stdout",
     "output_type": "stream",
     "text": [
      "Found existing installation: torch 2.2.1\n",
      "Uninstalling torch-2.2.1:\n",
      "  Successfully uninstalled torch-2.2.1\n"
     ]
    }
   ],
   "source": [
    "!pip3 uninstall torch -y"
   ]
  },
  {
   "cell_type": "code",
   "execution_count": 15,
   "id": "5aa3ac01-c3bd-45ee-845e-eb69394ab260",
   "metadata": {
    "scrolled": true
   },
   "outputs": [
    {
     "name": "stdout",
     "output_type": "stream",
     "text": [
      "Looking in links: https://download.pytorch.org/whl/cu111/torch_stable.html\n",
      "Collecting torch==1.10.1+cu111\n",
      "  Using cached https://download.pytorch.org/whl/cu111/torch-1.10.1%2Bcu111-cp38-cp38-linux_x86_64.whl (2137.7 MB)\n",
      "Requirement already satisfied: torchvision==0.11.2+cu111 in /usr/local/lib/python3.8/dist-packages (0.11.2+cu111)\n",
      "Requirement already satisfied: torchaudio==0.10.1 in /usr/local/lib/python3.8/dist-packages (0.10.1+cu111)\n",
      "Requirement already satisfied: typing-extensions in /usr/local/lib/python3.8/dist-packages (from torch==1.10.1+cu111) (4.10.0)\n",
      "Requirement already satisfied: pillow!=8.3.0,>=5.3.0 in /usr/local/lib/python3.8/dist-packages (from torchvision==0.11.2+cu111) (10.2.0)\n",
      "Requirement already satisfied: numpy in /usr/local/lib/python3.8/dist-packages (from torchvision==0.11.2+cu111) (1.24.4)\n",
      "\u001b[31mERROR: xformers 0.0.23.post1 has requirement torch==2.1.2, but you'll have torch 1.10.1+cu111 which is incompatible.\u001b[0m\n",
      "\u001b[31mERROR: vllm 0.3.3 has requirement torch==2.1.2, but you'll have torch 1.10.1+cu111 which is incompatible.\u001b[0m\n",
      "\u001b[31mERROR: outlines 0.0.34 has requirement torch>=2.1.0, but you'll have torch 1.10.1+cu111 which is incompatible.\u001b[0m\n",
      "\u001b[31mERROR: optimum 1.17.1 has requirement torch>=1.11, but you'll have torch 1.10.1+cu111 which is incompatible.\u001b[0m\n",
      "Installing collected packages: torch\n",
      "Successfully installed torch-1.10.1+cu111\n"
     ]
    }
   ],
   "source": [
    "!pip3 install torch==1.10.1+cu111 torchvision==0.11.2+cu111 torchaudio==0.10.1 -f https://download.pytorch.org/whl/cu111/torch_stable.html"
   ]
  },
  {
   "cell_type": "code",
   "execution_count": 7,
   "id": "82ed32eb-6eb2-4a45-bb4c-dfb538340180",
   "metadata": {},
   "outputs": [],
   "source": [
    "import pandas as pd\n",
    "import numpy as np\n",
    "from tqdm import tqdm\n",
    "import time\n",
    "import os\n",
    "import json\n",
    "import pandas\n",
    "import torch\n",
    "import torch.nn as nn\n",
    "import gc\n",
    "from transformers import AutoTokenizer, AutoModelForCausalLM, GPTQConfig\n",
    "# from transformers import BitsAndBytesConfig\n",
    "from bitsandbytes.quantizers import BitsAndBytesConfig\n",
    "# from vllm import LLM"
   ]
  },
  {
   "cell_type": "code",
   "execution_count": 12,
   "id": "651f32f3-5608-44c3-a14e-619bbb5263f3",
   "metadata": {},
   "outputs": [
    {
     "name": "stdout",
     "output_type": "stream",
     "text": [
      "Device : cuda:0\n"
     ]
    },
    {
     "name": "stderr",
     "output_type": "stream",
     "text": [
      "`low_cpu_mem_usage` was None, now set to True since model is quantized.\n"
     ]
    },
    {
     "name": "stdout",
     "output_type": "stream",
     "text": [
      "\n",
      "===================================BUG REPORT===================================\n",
      "================================================================================\n",
      "The following directories listed in your path were found to be non-existent: {PosixPath('/usr/local/nvidia/lib'), PosixPath('/usr/local/nvidia/lib64')}\n",
      "The following directories listed in your path were found to be non-existent: {PosixPath('//matplotlib_inline.backend_inline'), PosixPath('module')}\n",
      "CUDA_SETUP: WARNING! libcudart.so not found in any environmental path. Searching in backup paths...\n",
      "DEBUG: Possible options found for libcudart.so: {PosixPath('/usr/local/cuda/lib64/libcudart.so.11.0')}\n",
      "CUDA SETUP: PyTorch settings found: CUDA_VERSION=111, Highest Compute Capability: 7.0.\n",
      "CUDA SETUP: To manually override the PyTorch CUDA version please see:https://github.com/TimDettmers/bitsandbytes/blob/main/how_to_use_nonpytorch_cuda.md\n",
      "CUDA SETUP: Loading binary /usr/local/lib/python3.8/dist-packages/bitsandbytes/libbitsandbytes_cuda111_nocublaslt.so...\n",
      "libcublas.so.11: cannot open shared object file: No such file or directory\n",
      "CUDA SETUP: Something unexpected happened. Please compile from source:\n",
      "git clone https://github.com/TimDettmers/bitsandbytes.git\n",
      "cd bitsandbytes\n",
      "CUDA_VERSION=111 make cuda11x_nomatmul\n",
      "python setup.py install\n"
     ]
    },
    {
     "ename": "RuntimeError",
     "evalue": "Failed to import transformers.integrations.bitsandbytes because of the following error (look up to see its traceback):\n\n        CUDA Setup failed despite GPU being available. Please run the following command to get more information:\n\n        python -m bitsandbytes\n\n        Inspect the output of the command and see if you can locate CUDA libraries. You might need to add them\n        to your LD_LIBRARY_PATH. If you suspect a bug, please take the information from python -m bitsandbytes\n        and open an issue at: https://github.com/TimDettmers/bitsandbytes/issues",
     "output_type": "error",
     "traceback": [
      "\u001b[0;31m---------------------------------------------------------------------------\u001b[0m",
      "\u001b[0;31mRuntimeError\u001b[0m                              Traceback (most recent call last)",
      "File \u001b[0;32m/usr/local/lib/python3.8/dist-packages/transformers/utils/import_utils.py:1390\u001b[0m, in \u001b[0;36m_LazyModule._get_module\u001b[0;34m(self, module_name)\u001b[0m\n\u001b[1;32m   1389\u001b[0m \u001b[38;5;28;01mtry\u001b[39;00m:\n\u001b[0;32m-> 1390\u001b[0m     \u001b[38;5;28;01mreturn\u001b[39;00m \u001b[43mimportlib\u001b[49m\u001b[38;5;241;43m.\u001b[39;49m\u001b[43mimport_module\u001b[49m\u001b[43m(\u001b[49m\u001b[38;5;124;43m\"\u001b[39;49m\u001b[38;5;124;43m.\u001b[39;49m\u001b[38;5;124;43m\"\u001b[39;49m\u001b[43m \u001b[49m\u001b[38;5;241;43m+\u001b[39;49m\u001b[43m \u001b[49m\u001b[43mmodule_name\u001b[49m\u001b[43m,\u001b[49m\u001b[43m \u001b[49m\u001b[38;5;28;43mself\u001b[39;49m\u001b[38;5;241;43m.\u001b[39;49m\u001b[38;5;18;43m__name__\u001b[39;49m\u001b[43m)\u001b[49m\n\u001b[1;32m   1391\u001b[0m \u001b[38;5;28;01mexcept\u001b[39;00m \u001b[38;5;167;01mException\u001b[39;00m \u001b[38;5;28;01mas\u001b[39;00m e:\n",
      "File \u001b[0;32m/usr/lib/python3.8/importlib/__init__.py:127\u001b[0m, in \u001b[0;36mimport_module\u001b[0;34m(name, package)\u001b[0m\n\u001b[1;32m    126\u001b[0m         level \u001b[38;5;241m+\u001b[39m\u001b[38;5;241m=\u001b[39m \u001b[38;5;241m1\u001b[39m\n\u001b[0;32m--> 127\u001b[0m \u001b[38;5;28;01mreturn\u001b[39;00m \u001b[43m_bootstrap\u001b[49m\u001b[38;5;241;43m.\u001b[39;49m\u001b[43m_gcd_import\u001b[49m\u001b[43m(\u001b[49m\u001b[43mname\u001b[49m\u001b[43m[\u001b[49m\u001b[43mlevel\u001b[49m\u001b[43m:\u001b[49m\u001b[43m]\u001b[49m\u001b[43m,\u001b[49m\u001b[43m \u001b[49m\u001b[43mpackage\u001b[49m\u001b[43m,\u001b[49m\u001b[43m \u001b[49m\u001b[43mlevel\u001b[49m\u001b[43m)\u001b[49m\n",
      "File \u001b[0;32m<frozen importlib._bootstrap>:1014\u001b[0m, in \u001b[0;36m_gcd_import\u001b[0;34m(name, package, level)\u001b[0m\n",
      "File \u001b[0;32m<frozen importlib._bootstrap>:991\u001b[0m, in \u001b[0;36m_find_and_load\u001b[0;34m(name, import_)\u001b[0m\n",
      "File \u001b[0;32m<frozen importlib._bootstrap>:975\u001b[0m, in \u001b[0;36m_find_and_load_unlocked\u001b[0;34m(name, import_)\u001b[0m\n",
      "File \u001b[0;32m<frozen importlib._bootstrap>:671\u001b[0m, in \u001b[0;36m_load_unlocked\u001b[0;34m(spec)\u001b[0m\n",
      "File \u001b[0;32m<frozen importlib._bootstrap_external>:848\u001b[0m, in \u001b[0;36mexec_module\u001b[0;34m(self, module)\u001b[0m\n",
      "File \u001b[0;32m<frozen importlib._bootstrap>:219\u001b[0m, in \u001b[0;36m_call_with_frames_removed\u001b[0;34m(f, *args, **kwds)\u001b[0m\n",
      "File \u001b[0;32m/usr/local/lib/python3.8/dist-packages/transformers/integrations/bitsandbytes.py:11\u001b[0m\n\u001b[1;32m     10\u001b[0m \u001b[38;5;28;01mif\u001b[39;00m is_bitsandbytes_available():\n\u001b[0;32m---> 11\u001b[0m     \u001b[38;5;28;01mimport\u001b[39;00m \u001b[38;5;21;01mbitsandbytes\u001b[39;00m \u001b[38;5;28;01mas\u001b[39;00m \u001b[38;5;21;01mbnb\u001b[39;00m\n\u001b[1;32m     12\u001b[0m     \u001b[38;5;28;01mimport\u001b[39;00m \u001b[38;5;21;01mtorch\u001b[39;00m\n",
      "File \u001b[0;32m/usr/local/lib/python3.8/dist-packages/bitsandbytes/__init__.py:6\u001b[0m\n\u001b[1;32m      1\u001b[0m \u001b[38;5;66;03m# Copyright (c) Facebook, Inc. and its affiliates.\u001b[39;00m\n\u001b[1;32m      2\u001b[0m \u001b[38;5;66;03m#\u001b[39;00m\n\u001b[1;32m      3\u001b[0m \u001b[38;5;66;03m# This source code is licensed under the MIT license found in the\u001b[39;00m\n\u001b[1;32m      4\u001b[0m \u001b[38;5;66;03m# LICENSE file in the root directory of this source tree.\u001b[39;00m\n\u001b[0;32m----> 6\u001b[0m \u001b[38;5;28;01mfrom\u001b[39;00m \u001b[38;5;21;01m.\u001b[39;00m \u001b[38;5;28;01mimport\u001b[39;00m cuda_setup, utils, research\n\u001b[1;32m      7\u001b[0m \u001b[38;5;28;01mfrom\u001b[39;00m \u001b[38;5;21;01m.\u001b[39;00m\u001b[38;5;21;01mautograd\u001b[39;00m\u001b[38;5;21;01m.\u001b[39;00m\u001b[38;5;21;01m_functions\u001b[39;00m \u001b[38;5;28;01mimport\u001b[39;00m (\n\u001b[1;32m      8\u001b[0m     MatmulLtState,\n\u001b[1;32m      9\u001b[0m     bmm_cublas,\n\u001b[0;32m   (...)\u001b[0m\n\u001b[1;32m     13\u001b[0m     matmul_4bit\n\u001b[1;32m     14\u001b[0m )\n",
      "File \u001b[0;32m/usr/local/lib/python3.8/dist-packages/bitsandbytes/research/__init__.py:1\u001b[0m\n\u001b[0;32m----> 1\u001b[0m \u001b[38;5;28;01mfrom\u001b[39;00m \u001b[38;5;21;01m.\u001b[39;00m \u001b[38;5;28;01mimport\u001b[39;00m nn\n\u001b[1;32m      2\u001b[0m \u001b[38;5;28;01mfrom\u001b[39;00m \u001b[38;5;21;01m.\u001b[39;00m\u001b[38;5;21;01mautograd\u001b[39;00m\u001b[38;5;21;01m.\u001b[39;00m\u001b[38;5;21;01m_functions\u001b[39;00m \u001b[38;5;28;01mimport\u001b[39;00m (\n\u001b[1;32m      3\u001b[0m     switchback_bnb,\n\u001b[1;32m      4\u001b[0m     matmul_fp8_global,\n\u001b[1;32m      5\u001b[0m     matmul_fp8_mixed,\n\u001b[1;32m      6\u001b[0m )\n",
      "File \u001b[0;32m/usr/local/lib/python3.8/dist-packages/bitsandbytes/research/nn/__init__.py:1\u001b[0m\n\u001b[0;32m----> 1\u001b[0m \u001b[38;5;28;01mfrom\u001b[39;00m \u001b[38;5;21;01m.\u001b[39;00m\u001b[38;5;21;01mmodules\u001b[39;00m \u001b[38;5;28;01mimport\u001b[39;00m LinearFP8Mixed, LinearFP8Global\n",
      "File \u001b[0;32m/usr/local/lib/python3.8/dist-packages/bitsandbytes/research/nn/modules.py:8\u001b[0m\n\u001b[1;32m      7\u001b[0m \u001b[38;5;28;01mimport\u001b[39;00m \u001b[38;5;21;01mbitsandbytes\u001b[39;00m \u001b[38;5;28;01mas\u001b[39;00m \u001b[38;5;21;01mbnb\u001b[39;00m\n\u001b[0;32m----> 8\u001b[0m \u001b[38;5;28;01mfrom\u001b[39;00m \u001b[38;5;21;01mbitsandbytes\u001b[39;00m\u001b[38;5;21;01m.\u001b[39;00m\u001b[38;5;21;01moptim\u001b[39;00m \u001b[38;5;28;01mimport\u001b[39;00m GlobalOptimManager\n\u001b[1;32m      9\u001b[0m \u001b[38;5;28;01mfrom\u001b[39;00m \u001b[38;5;21;01mbitsandbytes\u001b[39;00m\u001b[38;5;21;01m.\u001b[39;00m\u001b[38;5;21;01mutils\u001b[39;00m \u001b[38;5;28;01mimport\u001b[39;00m OutlierTracer, find_outlier_dims\n",
      "File \u001b[0;32m/usr/local/lib/python3.8/dist-packages/bitsandbytes/optim/__init__.py:6\u001b[0m\n\u001b[1;32m      1\u001b[0m \u001b[38;5;66;03m# Copyright (c) Facebook, Inc. and its affiliates.\u001b[39;00m\n\u001b[1;32m      2\u001b[0m \u001b[38;5;66;03m#\u001b[39;00m\n\u001b[1;32m      3\u001b[0m \u001b[38;5;66;03m# This source code is licensed under the MIT license found in the\u001b[39;00m\n\u001b[1;32m      4\u001b[0m \u001b[38;5;66;03m# LICENSE file in the root directory of this source tree.\u001b[39;00m\n\u001b[0;32m----> 6\u001b[0m \u001b[38;5;28;01mfrom\u001b[39;00m \u001b[38;5;21;01mbitsandbytes\u001b[39;00m\u001b[38;5;21;01m.\u001b[39;00m\u001b[38;5;21;01mcextension\u001b[39;00m \u001b[38;5;28;01mimport\u001b[39;00m COMPILED_WITH_CUDA\n\u001b[1;32m      8\u001b[0m \u001b[38;5;28;01mfrom\u001b[39;00m \u001b[38;5;21;01m.\u001b[39;00m\u001b[38;5;21;01madagrad\u001b[39;00m \u001b[38;5;28;01mimport\u001b[39;00m Adagrad, Adagrad8bit, Adagrad32bit\n",
      "File \u001b[0;32m/usr/local/lib/python3.8/dist-packages/bitsandbytes/cextension.py:20\u001b[0m\n\u001b[1;32m     19\u001b[0m     CUDASetup\u001b[38;5;241m.\u001b[39mget_instance()\u001b[38;5;241m.\u001b[39mprint_log_stack()\n\u001b[0;32m---> 20\u001b[0m     \u001b[38;5;28;01mraise\u001b[39;00m \u001b[38;5;167;01mRuntimeError\u001b[39;00m(\u001b[38;5;124m'''\u001b[39m\n\u001b[1;32m     21\u001b[0m \u001b[38;5;124m    CUDA Setup failed despite GPU being available. Please run the following command to get more information:\u001b[39m\n\u001b[1;32m     22\u001b[0m \n\u001b[1;32m     23\u001b[0m \u001b[38;5;124m    python -m bitsandbytes\u001b[39m\n\u001b[1;32m     24\u001b[0m \n\u001b[1;32m     25\u001b[0m \u001b[38;5;124m    Inspect the output of the command and see if you can locate CUDA libraries. You might need to add them\u001b[39m\n\u001b[1;32m     26\u001b[0m \u001b[38;5;124m    to your LD_LIBRARY_PATH. If you suspect a bug, please take the information from python -m bitsandbytes\u001b[39m\n\u001b[1;32m     27\u001b[0m \u001b[38;5;124m    and open an issue at: https://github.com/TimDettmers/bitsandbytes/issues\u001b[39m\u001b[38;5;124m'''\u001b[39m)\n\u001b[1;32m     28\u001b[0m lib\u001b[38;5;241m.\u001b[39mcadam32bit_grad_fp32 \u001b[38;5;66;03m# runs on an error if the library could not be found -> COMPILED_WITH_CUDA=False\u001b[39;00m\n",
      "\u001b[0;31mRuntimeError\u001b[0m: \n        CUDA Setup failed despite GPU being available. Please run the following command to get more information:\n\n        python -m bitsandbytes\n\n        Inspect the output of the command and see if you can locate CUDA libraries. You might need to add them\n        to your LD_LIBRARY_PATH. If you suspect a bug, please take the information from python -m bitsandbytes\n        and open an issue at: https://github.com/TimDettmers/bitsandbytes/issues",
      "\nThe above exception was the direct cause of the following exception:\n",
      "\u001b[0;31mRuntimeError\u001b[0m                              Traceback (most recent call last)",
      "Cell \u001b[0;32mIn[12], line 23\u001b[0m\n\u001b[1;32m     10\u001b[0m nf8_config \u001b[38;5;241m=\u001b[39m BitsAndBytesConfig(\n\u001b[1;32m     11\u001b[0m     load_in_4bit\u001b[38;5;241m=\u001b[39m\u001b[38;5;28;01mTrue\u001b[39;00m,\n\u001b[1;32m     12\u001b[0m     llm_int8_skip_modules\u001b[38;5;241m=\u001b[39m[\u001b[38;5;124m\"\u001b[39m\u001b[38;5;124membedding\u001b[39m\u001b[38;5;124m\"\u001b[39m],\n\u001b[0;32m   (...)\u001b[0m\n\u001b[1;32m     19\u001b[0m     \u001b[38;5;66;03m# bnb_4bit_use_double_quant=False\u001b[39;00m\n\u001b[1;32m     20\u001b[0m )\n\u001b[1;32m     22\u001b[0m \u001b[38;5;66;03m# 모델 로드\u001b[39;00m\n\u001b[0;32m---> 23\u001b[0m model \u001b[38;5;241m=\u001b[39m \u001b[43mAutoModelForCausalLM\u001b[49m\u001b[38;5;241;43m.\u001b[39;49m\u001b[43mfrom_pretrained\u001b[49m\u001b[43m(\u001b[49m\n\u001b[1;32m     24\u001b[0m \u001b[43m    \u001b[49m\u001b[43mmodel_name\u001b[49m\u001b[43m,\u001b[49m\n\u001b[1;32m     25\u001b[0m \u001b[43m    \u001b[49m\u001b[43mquantization_config\u001b[49m\u001b[38;5;241;43m=\u001b[39;49m\u001b[43mnf8_config\u001b[49m\u001b[43m,\u001b[49m\n\u001b[1;32m     26\u001b[0m \u001b[43m)\u001b[49m\n",
      "File \u001b[0;32m/usr/local/lib/python3.8/dist-packages/transformers/models/auto/auto_factory.py:561\u001b[0m, in \u001b[0;36m_BaseAutoModelClass.from_pretrained\u001b[0;34m(cls, pretrained_model_name_or_path, *model_args, **kwargs)\u001b[0m\n\u001b[1;32m    559\u001b[0m \u001b[38;5;28;01melif\u001b[39;00m \u001b[38;5;28mtype\u001b[39m(config) \u001b[38;5;129;01min\u001b[39;00m \u001b[38;5;28mcls\u001b[39m\u001b[38;5;241m.\u001b[39m_model_mapping\u001b[38;5;241m.\u001b[39mkeys():\n\u001b[1;32m    560\u001b[0m     model_class \u001b[38;5;241m=\u001b[39m _get_model_class(config, \u001b[38;5;28mcls\u001b[39m\u001b[38;5;241m.\u001b[39m_model_mapping)\n\u001b[0;32m--> 561\u001b[0m     \u001b[38;5;28;01mreturn\u001b[39;00m \u001b[43mmodel_class\u001b[49m\u001b[38;5;241;43m.\u001b[39;49m\u001b[43mfrom_pretrained\u001b[49m\u001b[43m(\u001b[49m\n\u001b[1;32m    562\u001b[0m \u001b[43m        \u001b[49m\u001b[43mpretrained_model_name_or_path\u001b[49m\u001b[43m,\u001b[49m\u001b[43m \u001b[49m\u001b[38;5;241;43m*\u001b[39;49m\u001b[43mmodel_args\u001b[49m\u001b[43m,\u001b[49m\u001b[43m \u001b[49m\u001b[43mconfig\u001b[49m\u001b[38;5;241;43m=\u001b[39;49m\u001b[43mconfig\u001b[49m\u001b[43m,\u001b[49m\u001b[43m \u001b[49m\u001b[38;5;241;43m*\u001b[39;49m\u001b[38;5;241;43m*\u001b[39;49m\u001b[43mhub_kwargs\u001b[49m\u001b[43m,\u001b[49m\u001b[43m \u001b[49m\u001b[38;5;241;43m*\u001b[39;49m\u001b[38;5;241;43m*\u001b[39;49m\u001b[43mkwargs\u001b[49m\n\u001b[1;32m    563\u001b[0m \u001b[43m    \u001b[49m\u001b[43m)\u001b[49m\n\u001b[1;32m    564\u001b[0m \u001b[38;5;28;01mraise\u001b[39;00m \u001b[38;5;167;01mValueError\u001b[39;00m(\n\u001b[1;32m    565\u001b[0m     \u001b[38;5;124mf\u001b[39m\u001b[38;5;124m\"\u001b[39m\u001b[38;5;124mUnrecognized configuration class \u001b[39m\u001b[38;5;132;01m{\u001b[39;00mconfig\u001b[38;5;241m.\u001b[39m\u001b[38;5;18m__class__\u001b[39m\u001b[38;5;132;01m}\u001b[39;00m\u001b[38;5;124m for this kind of AutoModel: \u001b[39m\u001b[38;5;132;01m{\u001b[39;00m\u001b[38;5;28mcls\u001b[39m\u001b[38;5;241m.\u001b[39m\u001b[38;5;18m__name__\u001b[39m\u001b[38;5;132;01m}\u001b[39;00m\u001b[38;5;124m.\u001b[39m\u001b[38;5;130;01m\\n\u001b[39;00m\u001b[38;5;124m\"\u001b[39m\n\u001b[1;32m    566\u001b[0m     \u001b[38;5;124mf\u001b[39m\u001b[38;5;124m\"\u001b[39m\u001b[38;5;124mModel type should be one of \u001b[39m\u001b[38;5;132;01m{\u001b[39;00m\u001b[38;5;124m'\u001b[39m\u001b[38;5;124m, \u001b[39m\u001b[38;5;124m'\u001b[39m\u001b[38;5;241m.\u001b[39mjoin(c\u001b[38;5;241m.\u001b[39m\u001b[38;5;18m__name__\u001b[39m\u001b[38;5;250m \u001b[39m\u001b[38;5;28;01mfor\u001b[39;00m\u001b[38;5;250m \u001b[39mc\u001b[38;5;250m \u001b[39m\u001b[38;5;129;01min\u001b[39;00m\u001b[38;5;250m \u001b[39m\u001b[38;5;28mcls\u001b[39m\u001b[38;5;241m.\u001b[39m_model_mapping\u001b[38;5;241m.\u001b[39mkeys())\u001b[38;5;132;01m}\u001b[39;00m\u001b[38;5;124m.\u001b[39m\u001b[38;5;124m\"\u001b[39m\n\u001b[1;32m    567\u001b[0m )\n",
      "File \u001b[0;32m/usr/local/lib/python3.8/dist-packages/transformers/modeling_utils.py:3389\u001b[0m, in \u001b[0;36mPreTrainedModel.from_pretrained\u001b[0;34m(cls, pretrained_model_name_or_path, config, cache_dir, ignore_mismatched_sizes, force_download, local_files_only, token, revision, use_safetensors, *model_args, **kwargs)\u001b[0m\n\u001b[1;32m   3386\u001b[0m     keep_in_fp32_modules \u001b[38;5;241m=\u001b[39m []\n\u001b[1;32m   3388\u001b[0m \u001b[38;5;28;01mif\u001b[39;00m hf_quantizer \u001b[38;5;129;01mis\u001b[39;00m \u001b[38;5;129;01mnot\u001b[39;00m \u001b[38;5;28;01mNone\u001b[39;00m:\n\u001b[0;32m-> 3389\u001b[0m     \u001b[43mhf_quantizer\u001b[49m\u001b[38;5;241;43m.\u001b[39;49m\u001b[43mpreprocess_model\u001b[49m\u001b[43m(\u001b[49m\n\u001b[1;32m   3390\u001b[0m \u001b[43m        \u001b[49m\u001b[43mmodel\u001b[49m\u001b[38;5;241;43m=\u001b[39;49m\u001b[43mmodel\u001b[49m\u001b[43m,\u001b[49m\u001b[43m \u001b[49m\u001b[43mdevice_map\u001b[49m\u001b[38;5;241;43m=\u001b[39;49m\u001b[43mdevice_map\u001b[49m\u001b[43m,\u001b[49m\u001b[43m \u001b[49m\u001b[43mkeep_in_fp32_modules\u001b[49m\u001b[38;5;241;43m=\u001b[39;49m\u001b[43mkeep_in_fp32_modules\u001b[49m\n\u001b[1;32m   3391\u001b[0m \u001b[43m    \u001b[49m\u001b[43m)\u001b[49m\n\u001b[1;32m   3393\u001b[0m     \u001b[38;5;66;03m# We store the original dtype for quantized models as we cannot easily retrieve it\u001b[39;00m\n\u001b[1;32m   3394\u001b[0m     \u001b[38;5;66;03m# once the weights have been quantized\u001b[39;00m\n\u001b[1;32m   3395\u001b[0m     \u001b[38;5;66;03m# Note that once you have loaded a quantized model, you can't change its dtype so this will\u001b[39;00m\n\u001b[1;32m   3396\u001b[0m     \u001b[38;5;66;03m# remain a single source of truth\u001b[39;00m\n\u001b[1;32m   3397\u001b[0m     config\u001b[38;5;241m.\u001b[39m_pre_quantization_dtype \u001b[38;5;241m=\u001b[39m torch_dtype\n",
      "File \u001b[0;32m/usr/local/lib/python3.8/dist-packages/transformers/quantizers/base.py:166\u001b[0m, in \u001b[0;36mHfQuantizer.preprocess_model\u001b[0;34m(self, model, **kwargs)\u001b[0m\n\u001b[1;32m    164\u001b[0m model\u001b[38;5;241m.\u001b[39mis_quantized \u001b[38;5;241m=\u001b[39m \u001b[38;5;28;01mTrue\u001b[39;00m\n\u001b[1;32m    165\u001b[0m model\u001b[38;5;241m.\u001b[39mquantization_method \u001b[38;5;241m=\u001b[39m \u001b[38;5;28mself\u001b[39m\u001b[38;5;241m.\u001b[39mquantization_config\u001b[38;5;241m.\u001b[39mquant_method\n\u001b[0;32m--> 166\u001b[0m \u001b[38;5;28;01mreturn\u001b[39;00m \u001b[38;5;28;43mself\u001b[39;49m\u001b[38;5;241;43m.\u001b[39;49m\u001b[43m_process_model_before_weight_loading\u001b[49m\u001b[43m(\u001b[49m\u001b[43mmodel\u001b[49m\u001b[43m,\u001b[49m\u001b[43m \u001b[49m\u001b[38;5;241;43m*\u001b[39;49m\u001b[38;5;241;43m*\u001b[39;49m\u001b[43mkwargs\u001b[49m\u001b[43m)\u001b[49m\n",
      "File \u001b[0;32m/usr/local/lib/python3.8/dist-packages/transformers/quantizers/quantizer_bnb_4bit.py:256\u001b[0m, in \u001b[0;36mBnb4BitHfQuantizer._process_model_before_weight_loading\u001b[0;34m(self, model, device_map, keep_in_fp32_modules, **kwargs)\u001b[0m\n\u001b[1;32m    249\u001b[0m \u001b[38;5;28;01mdef\u001b[39;00m \u001b[38;5;21m_process_model_before_weight_loading\u001b[39m(\n\u001b[1;32m    250\u001b[0m     \u001b[38;5;28mself\u001b[39m,\n\u001b[1;32m    251\u001b[0m     model: \u001b[38;5;124m\"\u001b[39m\u001b[38;5;124mPreTrainedModel\u001b[39m\u001b[38;5;124m\"\u001b[39m,\n\u001b[0;32m   (...)\u001b[0m\n\u001b[1;32m    254\u001b[0m     \u001b[38;5;241m*\u001b[39m\u001b[38;5;241m*\u001b[39mkwargs,\n\u001b[1;32m    255\u001b[0m ):\n\u001b[0;32m--> 256\u001b[0m     \u001b[38;5;28;01mfrom\u001b[39;00m \u001b[38;5;21;01m.\u001b[39;00m\u001b[38;5;21;01m.\u001b[39;00m\u001b[38;5;21;01mintegrations\u001b[39;00m \u001b[38;5;28;01mimport\u001b[39;00m get_keys_to_not_convert, replace_with_bnb_linear\n\u001b[1;32m    258\u001b[0m     load_in_8bit_fp32_cpu_offload \u001b[38;5;241m=\u001b[39m \u001b[38;5;28mself\u001b[39m\u001b[38;5;241m.\u001b[39mquantization_config\u001b[38;5;241m.\u001b[39mllm_int8_enable_fp32_cpu_offload\n\u001b[1;32m    260\u001b[0m     \u001b[38;5;66;03m# We keep some modules such as the lm_head in their original dtype for numerical stability reasons\u001b[39;00m\n",
      "File \u001b[0;32m<frozen importlib._bootstrap>:1039\u001b[0m, in \u001b[0;36m_handle_fromlist\u001b[0;34m(module, fromlist, import_, recursive)\u001b[0m\n",
      "File \u001b[0;32m/usr/local/lib/python3.8/dist-packages/transformers/utils/import_utils.py:1380\u001b[0m, in \u001b[0;36m_LazyModule.__getattr__\u001b[0;34m(self, name)\u001b[0m\n\u001b[1;32m   1378\u001b[0m     value \u001b[38;5;241m=\u001b[39m \u001b[38;5;28mself\u001b[39m\u001b[38;5;241m.\u001b[39m_get_module(name)\n\u001b[1;32m   1379\u001b[0m \u001b[38;5;28;01melif\u001b[39;00m name \u001b[38;5;129;01min\u001b[39;00m \u001b[38;5;28mself\u001b[39m\u001b[38;5;241m.\u001b[39m_class_to_module\u001b[38;5;241m.\u001b[39mkeys():\n\u001b[0;32m-> 1380\u001b[0m     module \u001b[38;5;241m=\u001b[39m \u001b[38;5;28;43mself\u001b[39;49m\u001b[38;5;241;43m.\u001b[39;49m\u001b[43m_get_module\u001b[49m\u001b[43m(\u001b[49m\u001b[38;5;28;43mself\u001b[39;49m\u001b[38;5;241;43m.\u001b[39;49m\u001b[43m_class_to_module\u001b[49m\u001b[43m[\u001b[49m\u001b[43mname\u001b[49m\u001b[43m]\u001b[49m\u001b[43m)\u001b[49m\n\u001b[1;32m   1381\u001b[0m     value \u001b[38;5;241m=\u001b[39m \u001b[38;5;28mgetattr\u001b[39m(module, name)\n\u001b[1;32m   1382\u001b[0m \u001b[38;5;28;01melse\u001b[39;00m:\n",
      "File \u001b[0;32m/usr/local/lib/python3.8/dist-packages/transformers/utils/import_utils.py:1392\u001b[0m, in \u001b[0;36m_LazyModule._get_module\u001b[0;34m(self, module_name)\u001b[0m\n\u001b[1;32m   1390\u001b[0m     \u001b[38;5;28;01mreturn\u001b[39;00m importlib\u001b[38;5;241m.\u001b[39mimport_module(\u001b[38;5;124m\"\u001b[39m\u001b[38;5;124m.\u001b[39m\u001b[38;5;124m\"\u001b[39m \u001b[38;5;241m+\u001b[39m module_name, \u001b[38;5;28mself\u001b[39m\u001b[38;5;241m.\u001b[39m\u001b[38;5;18m__name__\u001b[39m)\n\u001b[1;32m   1391\u001b[0m \u001b[38;5;28;01mexcept\u001b[39;00m \u001b[38;5;167;01mException\u001b[39;00m \u001b[38;5;28;01mas\u001b[39;00m e:\n\u001b[0;32m-> 1392\u001b[0m     \u001b[38;5;28;01mraise\u001b[39;00m \u001b[38;5;167;01mRuntimeError\u001b[39;00m(\n\u001b[1;32m   1393\u001b[0m         \u001b[38;5;124mf\u001b[39m\u001b[38;5;124m\"\u001b[39m\u001b[38;5;124mFailed to import \u001b[39m\u001b[38;5;132;01m{\u001b[39;00m\u001b[38;5;28mself\u001b[39m\u001b[38;5;241m.\u001b[39m\u001b[38;5;18m__name__\u001b[39m\u001b[38;5;132;01m}\u001b[39;00m\u001b[38;5;124m.\u001b[39m\u001b[38;5;132;01m{\u001b[39;00mmodule_name\u001b[38;5;132;01m}\u001b[39;00m\u001b[38;5;124m because of the following error (look up to see its\u001b[39m\u001b[38;5;124m\"\u001b[39m\n\u001b[1;32m   1394\u001b[0m         \u001b[38;5;124mf\u001b[39m\u001b[38;5;124m\"\u001b[39m\u001b[38;5;124m traceback):\u001b[39m\u001b[38;5;130;01m\\n\u001b[39;00m\u001b[38;5;132;01m{\u001b[39;00me\u001b[38;5;132;01m}\u001b[39;00m\u001b[38;5;124m\"\u001b[39m\n\u001b[1;32m   1395\u001b[0m     ) \u001b[38;5;28;01mfrom\u001b[39;00m \u001b[38;5;21;01me\u001b[39;00m\n",
      "\u001b[0;31mRuntimeError\u001b[0m: Failed to import transformers.integrations.bitsandbytes because of the following error (look up to see its traceback):\n\n        CUDA Setup failed despite GPU being available. Please run the following command to get more information:\n\n        python -m bitsandbytes\n\n        Inspect the output of the command and see if you can locate CUDA libraries. You might need to add them\n        to your LD_LIBRARY_PATH. If you suspect a bug, please take the information from python -m bitsandbytes\n        and open an issue at: https://github.com/TimDettmers/bitsandbytes/issues"
     ]
    }
   ],
   "source": [
    "device = 'cuda:0' if torch.cuda.is_available() else 'cpu'\n",
    "print(f'Device : {device}')\n",
    "\n",
    "model_name = \"beomi/llama-2-ko-7b\"\n",
    "# model_name = \"davidkim205/komt-solar-10.7b-sft-v5\"\n",
    "\n",
    "tokenizer = AutoTokenizer.from_pretrained(model_name)\n",
    "\n",
    "# 양자화 설정\n",
    "nf8_config = BitsAndBytesConfig(\n",
    "    load_in_4bit=True,\n",
    "    llm_int8_skip_modules=[\"embedding\"],\n",
    "    # device_map=\"auto\",\n",
    "    # llm_int8_threshold=0.5,\n",
    "    # llm_int8_enable_fp32_cpu_offload=True,\n",
    "    # llm_int8_has_fp16_weight=True,\n",
    "    # bnb_4bit_compute_dtype=\"fp32\",\n",
    "    # bnb_4bit_quant_type=\"symmetric\",\n",
    "    # bnb_4bit_use_double_quant=False\n",
    ")\n",
    "\n",
    "# 모델 로드\n",
    "model = AutoModelForCausalLM.from_pretrained(\n",
    "    model_name,\n",
    "    quantization_config=nf8_config,\n",
    ")"
   ]
  },
  {
   "cell_type": "code",
   "execution_count": 6,
   "id": "8baca123-551d-4bf0-a023-0282ec69cb67",
   "metadata": {},
   "outputs": [],
   "source": [
    "# !pip3 uninstall accelerate -y\n",
    "# !pip3 install accelerate"
   ]
  },
  {
   "cell_type": "code",
   "execution_count": 5,
   "id": "f88964a4-f20b-440d-b015-39bba3d90f0b",
   "metadata": {},
   "outputs": [
    {
     "name": "stdout",
     "output_type": "stream",
     "text": [
      "accelerate                0.28.0      \n"
     ]
    }
   ],
   "source": [
    "!pip3 list |grep accelerate"
   ]
  },
  {
   "cell_type": "code",
   "execution_count": 9,
   "id": "183d85f8-fcaf-46ae-9531-935409449523",
   "metadata": {},
   "outputs": [
    {
     "name": "stdout",
     "output_type": "stream",
     "text": [
      "bitsandbytes              0.42.0      \n"
     ]
    }
   ],
   "source": [
    "!pip3 list |grep bitsandbytes"
   ]
  },
  {
   "cell_type": "code",
   "execution_count": 6,
   "id": "34736931-40fb-4e11-b031-bfbce00bf16f",
   "metadata": {},
   "outputs": [],
   "source": [
    "if torch.cuda.is_available():\n",
    "    device = torch.device('cuda')\n",
    "    # model = nn.DataParallel(model)\n",
    "    model.to(device)"
   ]
  },
  {
   "cell_type": "markdown",
   "id": "15dacf83-e9d0-426e-9a2c-3594ecf5fd56",
   "metadata": {},
   "source": [
    "## sLLM 기본적인 용어 이해도 질문"
   ]
  },
  {
   "cell_type": "code",
   "execution_count": null,
   "id": "07ca69e7-ad0d-49ab-bb2e-7dee4f09878e",
   "metadata": {},
   "outputs": [],
   "source": [
    "docker network create elastic\n",
    "docker pull docker.elastic.co/elasticsearch/elasticsearch:8.12.2\n",
    "wget https://artifacts.elastic.co/cosign.pub\n",
    "cosign verify --key cosign.pub docker.elastic.co/elasticsearch/elasticsearch:8.12.2\n",
    "\n",
    "Verification for docker.elastic.co/elasticsearch/elasticsearch:8.12.2 --\n",
    "The following checks were performed on each of these signatures:\n",
    "  - The cosign claims were validated\n",
    "  - Existence of the claims in the transparency log was verified offline\n",
    "  - The signatures were verified against the specified public key\n",
    "\n",
    "docker run --name es01 --net elastic -p 9200:9200 -it -m 1GB docker.elastic.co/elasticsearch/elasticsearch:8.12.2\n",
    "\n",
    "docker exec -it es01 /usr/share/elasticsearch/bin/elasticsearch-reset-password -u elastic\n",
    "docker exec -it es01 /usr/share/elasticsearch/bin/elasticsearch-create-enrollment-token -s kibana\n",
    "\n",
    "export ELASTIC_PASSWORD=\"your_password\"\n",
    "\n",
    "docker cp es01:/usr/share/elasticsearch/config/certs/http_ca.crt .\n",
    "\n",
    "curl --cacert http_ca.crt -u elastic:$ELASTIC_PASSWORD https://localhost:9200\n",
    "\n",
    "\n",
    "\n",
    "\n",
    "docker exec -it es01 /usr/share/elasticsearch/bin/elasticsearch-create-enrollment-token -s node\n",
    "\n"
   ]
  },
  {
   "cell_type": "code",
   "execution_count": 8,
   "id": "43ecd973-f543-40ec-bcc2-4606c6f01561",
   "metadata": {},
   "outputs": [],
   "source": [
    "# 기본적인 용어 이해도 확인 질문\n",
    "question_list = [\n",
    "    '부동산의 뜻을 설명해줘',\n",
    "    '대한민국의 수도는?',\n",
    "    '부동산에서 \"30평\"의 의미를 설명해줘',\n",
    "    '부동산의 종류는 어떤것들이 있지?'\n",
    "    '아파트와 빌라의 차이점은?',\n",
    "    '아파트와 주택의 차이점은?',\n",
    "    '\"부동산 실거래가\"라는 용어의 의미를 설명해줘',\n",
    "    '3000만원, 2000만원, 5000만원이 있을때, 가장 큰 금액은?'\n",
    "]"
   ]
  },
  {
   "cell_type": "code",
   "execution_count": 9,
   "id": "8e05c7e0-0e51-4d30-8bfe-0bc9811ed18f",
   "metadata": {},
   "outputs": [],
   "source": [
    "torch.cuda.empty_cache()"
   ]
  },
  {
   "cell_type": "code",
   "execution_count": 9,
   "id": "b4d53d79-9bb9-40dd-b974-bf1cba3aff1c",
   "metadata": {},
   "outputs": [],
   "source": [
    "result_dict = {\n",
    "    \"model\" : model_name,\n",
    "    \"basic_question\" : {},\n",
    "    \"test_response\" : {}\n",
    "}\n",
    "\n",
    "for cnt, q in tqdm(enumerate(question_list)):\n",
    "    input_ids = tokenizer.encode(q, return_tensors='pt')\n",
    "    params = {\n",
    "        \"input_ids\": input_ids.to(device),\n",
    "        \"max_length\": 500,\n",
    "        \"num_return_sequences\": 1,\n",
    "        \"temperature\": 0.5,\n",
    "        \"pad_token_id\": tokenizer.eos_token_id\n",
    "    }\n",
    "    output = model.generate(**params)\n",
    "    output_text = tokenizer.decode(output[0], skip_special_tokens=True)\n",
    "    \n",
    "    result_dict[\"basic_question\"][cnt] = {\n",
    "        \"Q\" : q,\n",
    "        \"A\" : output_text.split(q)[1]\n",
    "    }\n"
   ]
  },
  {
   "cell_type": "code",
   "execution_count": 41,
   "id": "975a78c1-00c3-401d-9964-fbad41594fb5",
   "metadata": {},
   "outputs": [
    {
     "name": "stdout",
     "output_type": "stream",
     "text": [
      " 서울이다. 서울이 수도가 된 것은 1948년 8월 15일 대한민국 정부가 수립되면서부터다. 1948년 8월 15일 대한민국 정부가 수립되면서 수도는 서울로 정해졌다. 1949년 8월 15일 서울특별자유시가 되었다. 1960년 11월 29일 서울특별시가 되었다. 1981년 7월 1일 서울특별시가 되었다. 1985년 10월 1일 서울특별시가 되었다. 1995년 3월 1일 서울특별시가 되었다. 1995년 12월 26일 서울특별시가 되었다. 2002년 3월 27일 서울특별시가 되었다. 2004년 10월 19일 서울특별시가 되었다. 2005년 2월 22일 서울특별시가 되었다. 2007년 10월 1일 서울특별시가 되었다. 2010년 10월 1일 서울특별시가 되었다. 2014년 7월 1일 서울특별시가 되었다. 2015년 10월 1일 서울특별시가 되었다. 2016년 10월 1일 서울특별시가 되었다. 2017년 10월 1일 서울특별시가 되었다. 2018년 10월 1일 서울특별시가 되었다. 2019년 10월 1일 서울특별시가 되었다. 2020년 10월 1일 서울특별시가 되었다. 2021년 10월 1일 서울특별시가 되었다. 2022년 10월 1일 서울특별시가 되었다. 2023년 10월 1일 서울특별시가 되었다. 2024년 10월 1일 서울특별시가 되었다. 2025년 10월 1일 서울특별시가 되었다. 2026년 10월 1일 서울특별시가 되었다. 2027년 10\n"
     ]
    }
   ],
   "source": [
    "print(result_dict['basic_question'][1]['A'])"
   ]
  },
  {
   "cell_type": "code",
   "execution_count": 65,
   "id": "db293257-cb90-43c3-a1a7-87df56f5a5bc",
   "metadata": {},
   "outputs": [],
   "source": [
    "save_path = '/workspace/real_estate_chatbot/sLLM/sLLM_test'\n",
    "file_name = model_name.replace('/', '_') + '.json'\n",
    "\n",
    "with open(os.path.join(save_path, file_name), 'w') as f:\n",
    "    json.dump(result_dict, f, indent=2)"
   ]
  },
  {
   "cell_type": "markdown",
   "id": "58c6dcfc-f0a9-4af4-87d5-b6e942399ef8",
   "metadata": {},
   "source": [
    "#### 부동산 실거래 정보가 Prompt로 주어졌을때, 질문과의 조합을 통해 적절한 답변을 생성해 낼 수 있는가?"
   ]
  },
  {
   "cell_type": "code",
   "execution_count": 45,
   "id": "b3ac0596-0891-4eaf-af07-36f7e94b92f5",
   "metadata": {},
   "outputs": [],
   "source": [
    "use_col = [\n",
    "    '접수연도', \n",
    "    '자치구명', \n",
    "    '법정동명',\n",
    "    '지번구분명',\n",
    "    '건물명', \n",
    "    '계약일',\n",
    "    '물건금액(만원)',\n",
    "    '건물면적(㎡)',\n",
    "    '토지면적(㎡)',\n",
    "    '층',\n",
    "    '건축년도',\n",
    "    '건물용도',\n",
    "    '신고한 개업공인중개사 시군구명',\n",
    "    '신고구분'\n",
    "]\n",
    "data_path = '/workspace/real_estate_chatbot/data'\n",
    "file_nm = 'seoul_real_estate_2023.csv'\n",
    "df = pd.read_csv(os.path.join(data_path, file_nm), encoding='CP949', usecols= use_col)\n",
    "df = df.reset_index()"
   ]
  },
  {
   "cell_type": "code",
   "execution_count": 54,
   "id": "1f8c7109-15d5-4e62-a0ce-00b2951432ea",
   "metadata": {},
   "outputs": [],
   "source": [
    "def prompt_generator(question):\n",
    "    prompt = f\"\"\"\n",
    "    [역할]\n",
    "    나는 부동산 정보를 참고하여 질문자의 질문에 대한 답변을 출력하는 chatbot 이야.\n",
    "\n",
    "    [질문답변 예시]\n",
    "    Q.질문 : 사당동에서 거래된 부동산 거래를 보여줘\n",
    "\n",
    "    *******************거래정보*******************\n",
    "    <거래번호_2>\n",
    "        - 접수연도 : 2023\n",
    "        - 자치구명 : 동작구\n",
    "        - 법정동명 : 사당동\n",
    "        - 지번구분명 : nan\n",
    "        - 건물명 : nan\n",
    "        - 계약일 : 20240201\n",
    "        - 물건금액(만원) : 190000\n",
    "        - 건물면적(㎡) : 148.23\n",
    "        - 토지면적(㎡) : 202.7\n",
    "        - 층 : nan\n",
    "        - 건축년도 : 1970.0\n",
    "        - 건물용도 : 단독다가구\n",
    "        - 신고구분 : 중개거래\n",
    "        - 신고한 개업공인중개사 시군구명 : 서울 강남구\n",
    "\n",
    "    <거래번호_3>\n",
    "        - 접수연도 : 2023\n",
    "        - 자치구명 : 강남구\n",
    "        - 법정동명 : 서초동\n",
    "        - 지번구분명 : nan\n",
    "        - 건물명 : nan\n",
    "        - 계약일 : 20240901\n",
    "        - 물건금액(만원) : 20000\n",
    "        - 건물면적(㎡) : 172.23\n",
    "        - 토지면적(㎡) : 222.7\n",
    "        - 층 : nan\n",
    "        - 건축년도 : 1983.2\n",
    "        - 건물용도 : 아파트\n",
    "        - 신고구분 : 중개거래\n",
    "        - 신고한 개업공인중개사 시군구명 : 서울 강남구\n",
    "    ********************************************\n",
    "    \n",
    "    A.답변 : \n",
    "    사당동에서 거래된 부동산 거래는 아래와 같습니다.\n",
    "\n",
    "    <거래번호_2>\n",
    "        - 접수연도 : 2023\n",
    "        - 자치구명 : 동작구\n",
    "        - 법정동명 : 사당동\n",
    "        - 지번구분명 : nan\n",
    "        - 건물명 : nan\n",
    "        - 계약일 : 20240201\n",
    "        - 물건금액(만원) : 190000\n",
    "        - 건물면적(㎡) : 148.23\n",
    "        - 토지면적(㎡) : 202.7\n",
    "        - 층 : nan\n",
    "        - 건축년도 : 1970.0\n",
    "        - 건물용도 : 단독다가구\n",
    "        - 신고구분 : 중개거래\n",
    "        - 신고한 개업공인중개사 시군구명 : 서울 강남구\n",
    "\n",
    "    ========================================\n",
    "\n",
    "    *******************거래정보*******************\n",
    "    \"\"\"\n",
    "\n",
    "    for cnt in range(10):\n",
    "        for num, (col, val) in enumerate(df.iloc[cnt, :].items()):\n",
    "            if num==0:\n",
    "                prompt += f'<거래번호_{val}>\\n'\n",
    "            else :\n",
    "                prompt += f'    - {col} : {val}\\n'\n",
    "        prompt+='\\n'\n",
    "    add_text = f\"\"\"\n",
    "    ********************************************\n",
    "    \n",
    "    -> 위의 거래정보를 참고하여 아래 질문에 답변해줘\n",
    "\n",
    "    Q.질문 : {question}\n",
    "    \"\"\"\n",
    "    prompt+=add_text\n",
    "    return prompt"
   ]
  },
  {
   "cell_type": "code",
   "execution_count": 55,
   "id": "fc3a3727-4fd5-41dd-94d5-cea4b0d3f3fc",
   "metadata": {},
   "outputs": [
    {
     "name": "stdout",
     "output_type": "stream",
     "text": [
      "\n",
      "    [역할]\n",
      "    나는 부동산 정보를 참고하여 질문자의 질문에 대한 답변을 출력하는 chatbot 이야.\n",
      "\n",
      "    [질문답변 예시]\n",
      "    Q.질문 : 사당동에서 거래된 부동산 거래를 보여줘\n",
      "\n",
      "    *******************거래정보*******************\n",
      "    <거래번호_2>\n",
      "        - 접수연도 : 2023\n",
      "        - 자치구명 : 동작구\n",
      "        - 법정동명 : 사당동\n",
      "        - 지번구분명 : nan\n",
      "        - 건물명 : nan\n",
      "        - 계약일 : 20240201\n",
      "        - 물건금액(만원) : 190000\n",
      "        - 건물면적(㎡) : 148.23\n",
      "        - 토지면적(㎡) : 202.7\n",
      "        - 층 : nan\n",
      "        - 건축년도 : 1970.0\n",
      "        - 건물용도 : 단독다가구\n",
      "        - 신고구분 : 중개거래\n",
      "        - 신고한 개업공인중개사 시군구명 : 서울 강남구\n",
      "\n",
      "    <거래번호_3>\n",
      "        - 접수연도 : 2023\n",
      "        - 자치구명 : 강남구\n",
      "        - 법정동명 : 서초동\n",
      "        - 지번구분명 : nan\n",
      "        - 건물명 : nan\n",
      "        - 계약일 : 20240901\n",
      "        - 물건금액(만원) : 20000\n",
      "        - 건물면적(㎡) : 172.23\n",
      "        - 토지면적(㎡) : 222.7\n",
      "        - 층 : nan\n",
      "        - 건축년도 : 1983.2\n",
      "        - 건물용도 : 아파트\n",
      "        - 신고구분 : 중개거래\n",
      "        - 신고한 개업공인중개사 시군구명 : 서울 강남구\n",
      "    ********************************************\n",
      "    \n",
      "    A.답변 : \n",
      "    사당동에서 거래된 부동산 거래는 아래와 같습니다.\n",
      "\n",
      "    <거래번호_2>\n",
      "        - 접수연도 : 2023\n",
      "        - 자치구명 : 동작구\n",
      "        - 법정동명 : 사당동\n",
      "        - 지번구분명 : nan\n",
      "        - 건물명 : nan\n",
      "        - 계약일 : 20240201\n",
      "        - 물건금액(만원) : 190000\n",
      "        - 건물면적(㎡) : 148.23\n",
      "        - 토지면적(㎡) : 202.7\n",
      "        - 층 : nan\n",
      "        - 건축년도 : 1970.0\n",
      "        - 건물용도 : 단독다가구\n",
      "        - 신고구분 : 중개거래\n",
      "        - 신고한 개업공인중개사 시군구명 : 서울 강남구\n",
      "\n",
      "    ========================================\n",
      "\n",
      "    *******************거래정보*******************\n",
      "    <거래번호_0>\n",
      "    - 접수연도 : 2023\n",
      "    - 자치구명 : 은평구\n",
      "    - 법정동명 : 녹번동\n",
      "    - 지번구분명 : 대지\n",
      "    - 건물명 : 이지플아트빌(152-59)\n",
      "    - 계약일 : 20240202\n",
      "    - 물건금액(만원) : 33500\n",
      "    - 건물면적(㎡) : 43.04\n",
      "    - 토지면적(㎡) : 37.37\n",
      "    - 층 : 2.0\n",
      "    - 건축년도 : 2005.0\n",
      "    - 건물용도 : 연립다세대\n",
      "    - 신고구분 : 중개거래\n",
      "    - 신고한 개업공인중개사 시군구명 : 서울 은평구\n",
      "\n",
      "<거래번호_1>\n",
      "    - 접수연도 : 2023\n",
      "    - 자치구명 : 동작구\n",
      "    - 법정동명 : 사당동\n",
      "    - 지번구분명 : nan\n",
      "    - 건물명 : nan\n",
      "    - 계약일 : 20240201\n",
      "    - 물건금액(만원) : 90000\n",
      "    - 건물면적(㎡) : 146.14\n",
      "    - 토지면적(㎡) : 98.6\n",
      "    - 층 : nan\n",
      "    - 건축년도 : 1987.0\n",
      "    - 건물용도 : 단독다가구\n",
      "    - 신고구분 : 중개거래\n",
      "    - 신고한 개업공인중개사 시군구명 : 서울 강남구\n",
      "\n",
      "<거래번호_2>\n",
      "    - 접수연도 : 2023\n",
      "    - 자치구명 : 동작구\n",
      "    - 법정동명 : 사당동\n",
      "    - 지번구분명 : nan\n",
      "    - 건물명 : nan\n",
      "    - 계약일 : 20240201\n",
      "    - 물건금액(만원) : 190000\n",
      "    - 건물면적(㎡) : 148.23\n",
      "    - 토지면적(㎡) : 202.7\n",
      "    - 층 : nan\n",
      "    - 건축년도 : 1970.0\n",
      "    - 건물용도 : 단독다가구\n",
      "    - 신고구분 : 중개거래\n",
      "    - 신고한 개업공인중개사 시군구명 : 서울 강남구\n",
      "\n",
      "<거래번호_3>\n",
      "    - 접수연도 : 2023\n",
      "    - 자치구명 : 송파구\n",
      "    - 법정동명 : 송파동\n",
      "    - 지번구분명 : 대지\n",
      "    - 건물명 : HANYANGLEEPS\n",
      "    - 계약일 : 20240123\n",
      "    - 물건금액(만원) : 11000\n",
      "    - 건물면적(㎡) : 13.38\n",
      "    - 토지면적(㎡) : 10.61\n",
      "    - 층 : 5.0\n",
      "    - 건축년도 : 2012.0\n",
      "    - 건물용도 : 연립다세대\n",
      "    - 신고구분 : 중개거래\n",
      "    - 신고한 개업공인중개사 시군구명 : 서울 송파구\n",
      "\n",
      "<거래번호_4>\n",
      "    - 접수연도 : 2023\n",
      "    - 자치구명 : 구로구\n",
      "    - 법정동명 : 구로동\n",
      "    - 지번구분명 : 대지\n",
      "    - 건물명 : 오크트리빌구로1차\n",
      "    - 계약일 : 20240109\n",
      "    - 물건금액(만원) : 29250\n",
      "    - 건물면적(㎡) : 29.99\n",
      "    - 토지면적(㎡) : 20.69\n",
      "    - 층 : 2.0\n",
      "    - 건축년도 : 2023.0\n",
      "    - 건물용도 : 연립다세대\n",
      "    - 신고구분 : 직거래\n",
      "    - 신고한 개업공인중개사 시군구명 : nan\n",
      "\n",
      "<거래번호_5>\n",
      "    - 접수연도 : 2023\n",
      "    - 자치구명 : 구로구\n",
      "    - 법정동명 : 구로동\n",
      "    - 지번구분명 : 대지\n",
      "    - 건물명 : 오크트리빌구로1차\n",
      "    - 계약일 : 20240109\n",
      "    - 물건금액(만원) : 25500\n",
      "    - 건물면적(㎡) : 26.85\n",
      "    - 토지면적(㎡) : 18.52\n",
      "    - 층 : 3.0\n",
      "    - 건축년도 : 2023.0\n",
      "    - 건물용도 : 연립다세대\n",
      "    - 신고구분 : 직거래\n",
      "    - 신고한 개업공인중개사 시군구명 : nan\n",
      "\n",
      "<거래번호_6>\n",
      "    - 접수연도 : 2023\n",
      "    - 자치구명 : 구로구\n",
      "    - 법정동명 : 구로동\n",
      "    - 지번구분명 : 대지\n",
      "    - 건물명 : 오크트리빌구로1차\n",
      "    - 계약일 : 20240109\n",
      "    - 물건금액(만원) : 24200\n",
      "    - 건물면적(㎡) : 26.48\n",
      "    - 토지면적(㎡) : 18.26\n",
      "    - 층 : 4.0\n",
      "    - 건축년도 : 2023.0\n",
      "    - 건물용도 : 연립다세대\n",
      "    - 신고구분 : 직거래\n",
      "    - 신고한 개업공인중개사 시군구명 : nan\n",
      "\n",
      "<거래번호_7>\n",
      "    - 접수연도 : 2023\n",
      "    - 자치구명 : 구로구\n",
      "    - 법정동명 : 구로동\n",
      "    - 지번구분명 : 대지\n",
      "    - 건물명 : 오크트리빌구로1차\n",
      "    - 계약일 : 20240109\n",
      "    - 물건금액(만원) : 27050\n",
      "    - 건물면적(㎡) : 29.29\n",
      "    - 토지면적(㎡) : 20.2\n",
      "    - 층 : 2.0\n",
      "    - 건축년도 : 2023.0\n",
      "    - 건물용도 : 연립다세대\n",
      "    - 신고구분 : 직거래\n",
      "    - 신고한 개업공인중개사 시군구명 : nan\n",
      "\n",
      "<거래번호_8>\n",
      "    - 접수연도 : 2023\n",
      "    - 자치구명 : 구로구\n",
      "    - 법정동명 : 구로동\n",
      "    - 지번구분명 : 대지\n",
      "    - 건물명 : 오크트리빌구로1차\n",
      "    - 계약일 : 20240109\n",
      "    - 물건금액(만원) : 27300\n",
      "    - 건물면적(㎡) : 29.29\n",
      "    - 토지면적(㎡) : 20.2\n",
      "    - 층 : 3.0\n",
      "    - 건축년도 : 2023.0\n",
      "    - 건물용도 : 연립다세대\n",
      "    - 신고구분 : 직거래\n",
      "    - 신고한 개업공인중개사 시군구명 : nan\n",
      "\n",
      "<거래번호_9>\n",
      "    - 접수연도 : 2023\n",
      "    - 자치구명 : 구로구\n",
      "    - 법정동명 : 구로동\n",
      "    - 지번구분명 : 대지\n",
      "    - 건물명 : 오크트리빌구로1차\n",
      "    - 계약일 : 20240109\n",
      "    - 물건금액(만원) : 25300\n",
      "    - 건물면적(㎡) : 26.85\n",
      "    - 토지면적(㎡) : 18.52\n",
      "    - 층 : 2.0\n",
      "    - 건축년도 : 2023.0\n",
      "    - 건물용도 : 연립다세대\n",
      "    - 신고구분 : 직거래\n",
      "    - 신고한 개업공인중개사 시군구명 : nan\n",
      "\n",
      "\n",
      "    ********************************************\n",
      "    \n",
      "    -> 위의 거래정보를 참고하여 아래 질문에 답변해줘\n",
      "\n",
      "    Q.질문 : 은평구에서 거래된 거래들을 보여줘\n",
      "    \n"
     ]
    }
   ],
   "source": [
    "question_list = [\n",
    "    '은평구에서 거래된 거래들을 보여줘',\n",
    "    # '동작구에서 거래된 단독다가구 관련 거래들을 보여줘',\n",
    "    # '건물면적이 50이상인 거래들을 보여줘'\n",
    "]\n",
    "input_list = [prompt_generator(q) for q in question_list]\n",
    "print(input_list[0])"
   ]
  },
  {
   "cell_type": "code",
   "execution_count": null,
   "id": "d5a31111-11ac-48a3-a1fd-21f2422fe72c",
   "metadata": {},
   "outputs": [],
   "source": [
    "input length, output length따로지정하자, input length는 설정할필요없다."
   ]
  },
  {
   "cell_type": "code",
   "execution_count": 10,
   "id": "49121dbd-b31b-4991-9694-e990ed0b4102",
   "metadata": {},
   "outputs": [],
   "source": [
    "for cnt, q in tqdm(enumerate(input_list)):\n",
    "    input_ids = tokenizer.encode(q, return_tensors='pt')\n",
    "    params = {\n",
    "        \"input_ids\": input_ids.to(device),\n",
    "        \"max_length\": 3000,\n",
    "        \"num_return_sequences\": 1,\n",
    "        \"temperature\": 0.5,\n",
    "        \"pad_token_id\": tokenizer.eos_token_id\n",
    "    }\n",
    "    output = model.module.generate(**params)\n",
    "    output_text = tokenizer.decode(output[0], skip_special_tokens=True)\n",
    "    \n",
    "    result_dict[\"test_response\"][cnt] = {\n",
    "        \"Q\" : q,\n",
    "        \"A\" : output_text\n",
    "    }\n"
   ]
  },
  {
   "cell_type": "code",
   "execution_count": null,
   "id": "c1e64200-1217-4650-94bd-f05b06517823",
   "metadata": {},
   "outputs": [],
   "source": [
    "print(result_dict['test_response'][0]['A'])"
   ]
  }
 ],
 "metadata": {
  "kernelspec": {
   "display_name": "Python 3 (ipykernel)",
   "language": "python",
   "name": "python3"
  },
  "language_info": {
   "codemirror_mode": {
    "name": "ipython",
    "version": 3
   },
   "file_extension": ".py",
   "mimetype": "text/x-python",
   "name": "python",
   "nbconvert_exporter": "python",
   "pygments_lexer": "ipython3",
   "version": "3.8.10"
  }
 },
 "nbformat": 4,
 "nbformat_minor": 5
}
